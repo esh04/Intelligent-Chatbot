{
  "nbformat": 4,
  "nbformat_minor": 0,
  "metadata": {
    "colab": {
      "name": "CosineSimilarity.ipynb",
      "provenance": [],
      "collapsed_sections": [],
      "authorship_tag": "ABX9TyN9WprS2mbNZDyUxRpOeDVX",
      "include_colab_link": true
    },
    "kernelspec": {
      "name": "python3",
      "display_name": "Python 3"
    },
    "language_info": {
      "name": "python"
    }
  },
  "cells": [
    {
      "cell_type": "markdown",
      "metadata": {
        "id": "view-in-github",
        "colab_type": "text"
      },
      "source": [
        "<a href=\"https://colab.research.google.com/github/esh04/Intelligent-Chatbot/blob/main/CosineSimilarity.ipynb\" target=\"_parent\"><img src=\"https://colab.research.google.com/assets/colab-badge.svg\" alt=\"Open In Colab\"/></a>"
      ]
    },
    {
      "cell_type": "code",
      "metadata": {
        "id": "LrBmVm2gKMhE"
      },
      "source": [
        "import nltk\n",
        "import numpy as np\n",
        "import random\n",
        "import string\n",
        "\n",
        "import bs4 as bs\n",
        "import urllib.request\n",
        "import re"
      ],
      "execution_count": 1,
      "outputs": []
    },
    {
      "cell_type": "code",
      "metadata": {
        "id": "8uO9fT0Q6QHD"
      },
      "source": [
        "raw_html = urllib.request.urlopen('https://en.wikipedia.org/wiki/COVID-19')\n",
        "raw_html = raw_html.read()\n",
        "\n",
        "article_html = bs.BeautifulSoup(raw_html, 'lxml')\n",
        "\n",
        "article_paragraphs = article_html.find_all('p')\n",
        "\n",
        "article_text = ''\n",
        "\n",
        "for para in article_paragraphs:\n",
        "    article_text += para.text\n",
        "\n",
        "article_text = article_text.lower()"
      ],
      "execution_count": 2,
      "outputs": []
    },
    {
      "cell_type": "code",
      "metadata": {
        "id": "71NSssuD685B"
      },
      "source": [
        "article_text = re.sub(r'\\[[0-9]*\\]', ' ', article_text)\n",
        "article_text = re.sub(r'\\s+', ' ', article_text)"
      ],
      "execution_count": 3,
      "outputs": []
    },
    {
      "cell_type": "code",
      "metadata": {
        "colab": {
          "base_uri": "https://localhost:8080/"
        },
        "id": "NP0qWqGb6_pc",
        "outputId": "54efa28d-d8b7-481e-a032-16a56d617d5e"
      },
      "source": [
        "nltk.download('punkt')\n",
        "article_sentences = nltk.sent_tokenize(article_text)\n",
        "article_words = nltk.word_tokenize(article_text)\n"
      ],
      "execution_count": 6,
      "outputs": [
        {
          "output_type": "stream",
          "name": "stdout",
          "text": [
            "[nltk_data] Downloading package punkt to /root/nltk_data...\n",
            "[nltk_data]   Unzipping tokenizers/punkt.zip.\n"
          ]
        }
      ]
    },
    {
      "cell_type": "code",
      "metadata": {
        "id": "Nhkso8nb7Bto"
      },
      "source": [
        "wnlemmatizer = nltk.stem.WordNetLemmatizer()\n",
        "\n",
        "def perform_lemmatization(tokens):\n",
        "    return [wnlemmatizer.lemmatize(token) for token in tokens]\n",
        "\n",
        "punctuation_removal = dict((ord(punctuation), None) for punctuation in string.punctuation)\n",
        "\n",
        "def get_processed_text(document):\n",
        "    return perform_lemmatization(nltk.word_tokenize(document.lower().translate(punctuation_removal)))"
      ],
      "execution_count": 7,
      "outputs": []
    },
    {
      "cell_type": "code",
      "metadata": {
        "id": "juaGuFfb7KEr"
      },
      "source": [
        "greeting_inputs = (\"hey\", \"good morning\", \"good evening\", \"morning\", \"evening\", \"hi\", \"whatsup\")\n",
        "greeting_responses = [\"hey\", \"hey hows you?\", \"*nods*\", \"hello, how you doing\", \"hello\", \"Welcome, I am good and you\"]\n",
        "\n",
        "def generate_greeting_response(greeting):\n",
        "    for token in greeting.split():\n",
        "        if token.lower() in greeting_inputs:\n",
        "            return random.choice(greeting_responses)"
      ],
      "execution_count": 8,
      "outputs": []
    },
    {
      "cell_type": "code",
      "metadata": {
        "id": "TCxJFr0Y7Mhs"
      },
      "source": [
        "from sklearn.feature_extraction.text import TfidfVectorizer\n",
        "from sklearn.metrics.pairwise import cosine_similarity"
      ],
      "execution_count": 9,
      "outputs": []
    },
    {
      "cell_type": "code",
      "metadata": {
        "id": "dyWeRORi7OgR"
      },
      "source": [
        "def generate_response(user_input):\n",
        "    covid_robo_response = ''\n",
        "    article_sentences.append(user_input)\n",
        "\n",
        "    word_vectorizer = TfidfVectorizer(tokenizer=get_processed_text, stop_words='english')\n",
        "    all_word_vectors = word_vectorizer.fit_transform(article_sentences)\n",
        "    similar_vector_values = cosine_similarity(all_word_vectors[-1], all_word_vectors)\n",
        "    similar_sentence_number = similar_vector_values.argsort()[0][-2]\n",
        "\n",
        "    matched_vector = similar_vector_values.flatten()\n",
        "    matched_vector.sort()\n",
        "    vector_matched = matched_vector[-2]\n",
        "\n",
        "    if vector_matched == 0:\n",
        "        covid_robo_response = covid_robo_response + \"I am sorry, I could not understand you\"\n",
        "        return covid_robo_response\n",
        "    else:\n",
        "        covid_robo_response = covid_robo_response + article_sentences[similar_sentence_number]\n",
        "        return covid_robo_response"
      ],
      "execution_count": 10,
      "outputs": []
    },
    {
      "cell_type": "code",
      "metadata": {
        "colab": {
          "base_uri": "https://localhost:8080/"
        },
        "id": "JE1sd7Xa7Qw_",
        "outputId": "fec34380-261b-4c6f-dbc4-78ff4d96f994"
      },
      "source": [
        "nltk.download('wordnet')\n",
        "word_vectorizer = TfidfVectorizer(tokenizer=get_processed_text, stop_words='english')\n",
        "all_word_vectors = word_vectorizer.fit_transform(article_sentences)"
      ],
      "execution_count": 12,
      "outputs": [
        {
          "output_type": "stream",
          "name": "stdout",
          "text": [
            "[nltk_data] Downloading package wordnet to /root/nltk_data...\n",
            "[nltk_data]   Unzipping corpora/wordnet.zip.\n"
          ]
        },
        {
          "output_type": "stream",
          "name": "stderr",
          "text": [
            "/usr/local/lib/python3.7/dist-packages/sklearn/feature_extraction/text.py:385: UserWarning: Your stop_words may be inconsistent with your preprocessing. Tokenizing the stop words generated tokens ['ha', 'le', 'u', 'wa'] not in stop_words.\n",
            "  'stop_words.' % sorted(inconsistent))\n"
          ]
        }
      ]
    },
    {
      "cell_type": "code",
      "metadata": {
        "id": "xM9JIvir7Svq"
      },
      "source": [
        "similar_vector_values = cosine_similarity(all_word_vectors[-1], all_word_vectors)\n"
      ],
      "execution_count": 13,
      "outputs": []
    },
    {
      "cell_type": "code",
      "metadata": {
        "id": "AI9iDK9J7YKq"
      },
      "source": [
        "similar_sentence_number = similar_vector_values.argsort()[0][-2]\n"
      ],
      "execution_count": 14,
      "outputs": []
    },
    {
      "cell_type": "code",
      "metadata": {
        "colab": {
          "base_uri": "https://localhost:8080/"
        },
        "id": "hRpTiPcX7ZuN",
        "outputId": "b4434714-5ee1-48e1-b76b-c7d63eda46bc"
      },
      "source": [
        "continue_dialogue = True\n",
        "print(\"Hello, testing the covidbot!\")\n",
        "while(continue_dialogue == True):\n",
        "    human_text = input()\n",
        "    human_text = human_text.lower()\n",
        "    if human_text != 'bye':\n",
        "        if human_text == 'thanks' or human_text == 'thank you very much' or human_text == 'thank you':\n",
        "            continue_dialogue = False\n",
        "            print(\"CovidRobo: Most welcome\")\n",
        "        else:\n",
        "            if generate_greeting_response(human_text) != None:\n",
        "                print(\"CovidRobo: \" + generate_greeting_response(human_text))\n",
        "            else:\n",
        "                print(\"CovidRobo: \", end=\"\")\n",
        "                print(generate_response(human_text))\n",
        "                article_sentences.remove(human_text)\n",
        "    else:\n",
        "        continue_dialogue = False\n",
        "        print(\"CovidRobo: Good bye and take care of yourself...\")"
      ],
      "execution_count": 15,
      "outputs": [
        {
          "name": "stdout",
          "output_type": "stream",
          "text": [
            "Hello, I am your friend TennisRobo. You can ask me any question regarding tennis:\n",
            "symptoms\n"
          ]
        },
        {
          "output_type": "stream",
          "name": "stderr",
          "text": [
            "/usr/local/lib/python3.7/dist-packages/sklearn/feature_extraction/text.py:385: UserWarning: Your stop_words may be inconsistent with your preprocessing. Tokenizing the stop words generated tokens ['ha', 'le', 'u', 'wa'] not in stop_words.\n",
            "  'stop_words.' % sorted(inconsistent))\n"
          ]
        },
        {
          "name": "stdout",
          "output_type": "stream",
          "text": [
            "TennisRobo: people with the same infection may have different symptoms, and their symptoms may change over time.\n",
            "history\n"
          ]
        },
        {
          "output_type": "stream",
          "name": "stderr",
          "text": [
            "/usr/local/lib/python3.7/dist-packages/sklearn/feature_extraction/text.py:385: UserWarning: Your stop_words may be inconsistent with your preprocessing. Tokenizing the stop words generated tokens ['ha', 'le', 'u', 'wa'] not in stop_words.\n",
            "  'stop_words.' % sorted(inconsistent))\n"
          ]
        },
        {
          "name": "stdout",
          "output_type": "stream",
          "text": [
            "TennisRobo: I am sorry, I could not understand you\n",
            "what is the cause for covid?\n"
          ]
        },
        {
          "output_type": "stream",
          "name": "stderr",
          "text": [
            "/usr/local/lib/python3.7/dist-packages/sklearn/feature_extraction/text.py:385: UserWarning: Your stop_words may be inconsistent with your preprocessing. Tokenizing the stop words generated tokens ['ha', 'le', 'u', 'wa'] not in stop_words.\n",
            "  'stop_words.' % sorted(inconsistent))\n"
          ]
        },
        {
          "name": "stdout",
          "output_type": "stream",
          "text": [
            "TennisRobo: these effects cause the majority of the respiratory symptoms.\n",
            "death\n"
          ]
        },
        {
          "output_type": "stream",
          "name": "stderr",
          "text": [
            "/usr/local/lib/python3.7/dist-packages/sklearn/feature_extraction/text.py:385: UserWarning: Your stop_words may be inconsistent with your preprocessing. Tokenizing the stop words generated tokens ['ha', 'le', 'u', 'wa'] not in stop_words.\n",
            "  'stop_words.' % sorted(inconsistent))\n"
          ]
        },
        {
          "name": "stdout",
          "output_type": "stream",
          "text": [
            "TennisRobo: according to this report the most common comorbidities are hypertension (66% of deaths), type 2 diabetes (29.8% of deaths), ischemic heart disease (27.6% of deaths), atrial fibrillation (23.1% of deaths) and chronic renal failure (20.2% of deaths).\n",
            "what is mortality\n"
          ]
        },
        {
          "output_type": "stream",
          "name": "stderr",
          "text": [
            "/usr/local/lib/python3.7/dist-packages/sklearn/feature_extraction/text.py:385: UserWarning: Your stop_words may be inconsistent with your preprocessing. Tokenizing the stop words generated tokens ['ha', 'le', 'u', 'wa'] not in stop_words.\n",
            "  'stop_words.' % sorted(inconsistent))\n"
          ]
        },
        {
          "name": "stdout",
          "output_type": "stream",
          "text": [
            "TennisRobo: consequently, the mortality rate reflects the prevalence as well as the severity of the disease within a given population.\n",
            "research done on covid\n"
          ]
        },
        {
          "output_type": "stream",
          "name": "stderr",
          "text": [
            "/usr/local/lib/python3.7/dist-packages/sklearn/feature_extraction/text.py:385: UserWarning: Your stop_words may be inconsistent with your preprocessing. Tokenizing the stop words generated tokens ['ha', 'le', 'u', 'wa'] not in stop_words.\n",
            "  'stop_words.' % sorted(inconsistent))\n"
          ]
        },
        {
          "output_type": "stream",
          "name": "stdout",
          "text": [
            "TennisRobo: there has been a great deal of covid-19 research, involving accelerated research processes and publishing shortcuts to meet the global demand.\n",
            "thank you\n",
            "TennisRobo: Most welcome\n"
          ]
        }
      ]
    },
    {
      "cell_type": "code",
      "metadata": {
        "id": "-hUNv6Oj7c-o"
      },
      "source": [
        ""
      ],
      "execution_count": null,
      "outputs": []
    }
  ]
}